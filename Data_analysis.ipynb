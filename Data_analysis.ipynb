{
 "cells": [
  {
   "cell_type": "code",
   "execution_count": 1,
   "metadata": {
    "collapsed": true
   },
   "outputs": [],
   "source": [
    "import requests\n",
    "\n",
    "import pandas as pd\n",
    "import numpy as np\n",
    "import matplotlib.pyplot as plt\n",
    "import datetime\n",
    "from datetime import date\n",
    "\n",
    "%matplotlib inline"
   ]
  },
  {
   "cell_type": "code",
   "execution_count": 2,
   "metadata": {
    "collapsed": true
   },
   "outputs": [],
   "source": [
    "from scipy.cluster.vq import whiten, kmeans2"
   ]
  },
  {
   "cell_type": "code",
   "execution_count": 3,
   "metadata": {
    "collapsed": true
   },
   "outputs": [],
   "source": [
    "def call_api(uri, result_key):\n",
    "    json = {}\n",
    "    try:\n",
    "        json = requests.get(uri, headers = { 'X-Auth-Token': 'cd88e02617ce437eaff56a6c687b02ff' }).json()\n",
    "        return json[result_key]\n",
    "    except:\n",
    "        print(json)\n",
    "        return None"
   ]
  },
  {
   "cell_type": "code",
   "execution_count": 4,
   "metadata": {},
   "outputs": [
    {
     "data": {
      "text/plain": [
       "[{'contractUntil': '2019-06-30',\n",
       "  'dateOfBirth': '1986-04-08',\n",
       "  'jerseyNumber': 35,\n",
       "  'marketValue': None,\n",
       "  'name': 'Igor Akinfeev',\n",
       "  'nationality': 'Russia',\n",
       "  'position': 'Keeper'},\n",
       " {'contractUntil': '2019-06-30',\n",
       "  'dateOfBirth': '1996-08-16',\n",
       "  'jerseyNumber': 1,\n",
       "  'marketValue': None,\n",
       "  'name': 'Ilya Pomazun',\n",
       "  'nationality': 'Russia',\n",
       "  'position': 'Keeper'},\n",
       " {'contractUntil': '2019-06-30',\n",
       "  'dateOfBirth': '1988-10-06',\n",
       "  'jerseyNumber': 5,\n",
       "  'marketValue': None,\n",
       "  'name': 'Viktor Vasin',\n",
       "  'nationality': 'Russia',\n",
       "  'position': 'Centre-Back'},\n",
       " {'contractUntil': '2018-06-30',\n",
       "  'dateOfBirth': '1982-06-20',\n",
       "  'jerseyNumber': 24,\n",
       "  'marketValue': None,\n",
       "  'name': 'Vasili Berezutski',\n",
       "  'nationality': 'Russia',\n",
       "  'position': 'Centre-Back'},\n",
       " {'contractUntil': '2018-06-30',\n",
       "  'dateOfBirth': '1982-06-20',\n",
       "  'jerseyNumber': 6,\n",
       "  'marketValue': None,\n",
       "  'name': 'Aleksey Berezutski',\n",
       "  'nationality': 'Russia',\n",
       "  'position': 'Centre-Back'},\n",
       " {'contractUntil': '2018-06-30',\n",
       "  'dateOfBirth': '1979-07-14',\n",
       "  'jerseyNumber': 4,\n",
       "  'marketValue': None,\n",
       "  'name': 'Sergey Ignashevich',\n",
       "  'nationality': 'Russia',\n",
       "  'position': 'Centre-Back'},\n",
       " {'contractUntil': '2017-12-31',\n",
       "  'dateOfBirth': '1991-04-27',\n",
       "  'jerseyNumber': 42,\n",
       "  'marketValue': None,\n",
       "  'name': 'Georgi Schennikov',\n",
       "  'nationality': 'Russia',\n",
       "  'position': 'Left-Back'},\n",
       " {'contractUntil': '2022-06-30',\n",
       "  'dateOfBirth': '1990-09-19',\n",
       "  'jerseyNumber': 2,\n",
       "  'marketValue': None,\n",
       "  'name': 'Mário Fernandes',\n",
       "  'nationality': 'Russia',\n",
       "  'position': 'Right-Back'},\n",
       " {'contractUntil': '2019-06-30',\n",
       "  'dateOfBirth': '1986-09-08',\n",
       "  'jerseyNumber': 14,\n",
       "  'marketValue': None,\n",
       "  'name': 'Kirill Nababkin',\n",
       "  'nationality': 'Russia',\n",
       "  'position': 'Right-Back'},\n",
       " {'contractUntil': '2018-06-30',\n",
       "  'dateOfBirth': '1986-06-25',\n",
       "  'jerseyNumber': 3,\n",
       "  'marketValue': None,\n",
       "  'name': 'Pontus Wernbloom',\n",
       "  'nationality': 'Sweden',\n",
       "  'position': 'Defensive Midfield'},\n",
       " {'contractUntil': '2019-06-30',\n",
       "  'dateOfBirth': '1990-06-17',\n",
       "  'jerseyNumber': 10,\n",
       "  'marketValue': None,\n",
       "  'name': 'Alan Dzagoev',\n",
       "  'nationality': 'Russia',\n",
       "  'position': 'Central Midfield'},\n",
       " {'contractUntil': '2021-06-30',\n",
       "  'dateOfBirth': '1996-05-30',\n",
       "  'jerseyNumber': 17,\n",
       "  'marketValue': None,\n",
       "  'name': 'Aleksandr Golovin',\n",
       "  'nationality': 'Russia',\n",
       "  'position': 'Central Midfield'},\n",
       " {'contractUntil': '2018-06-30',\n",
       "  'dateOfBirth': '1988-02-18',\n",
       "  'jerseyNumber': 66,\n",
       "  'marketValue': None,\n",
       "  'name': 'Bibras Natcho',\n",
       "  'nationality': 'Israel',\n",
       "  'position': 'Central Midfield'},\n",
       " {'contractUntil': '2020-06-30',\n",
       "  'dateOfBirth': '1998-03-18',\n",
       "  'jerseyNumber': 89,\n",
       "  'marketValue': None,\n",
       "  'name': 'Konstantin Kuchaev',\n",
       "  'nationality': 'Russia',\n",
       "  'position': 'Central Midfield'},\n",
       " {'contractUntil': '2018-06-30',\n",
       "  'dateOfBirth': '1992-02-19',\n",
       "  'jerseyNumber': 8,\n",
       "  'marketValue': None,\n",
       "  'name': 'Georgi Milanov',\n",
       "  'nationality': 'Bulgaria',\n",
       "  'position': 'Attacking Midfield'},\n",
       " {'contractUntil': '2020-06-30',\n",
       "  'dateOfBirth': '1993-10-09',\n",
       "  'jerseyNumber': 11,\n",
       "  'marketValue': None,\n",
       "  'name': 'Vitinho',\n",
       "  'nationality': 'Brazil',\n",
       "  'position': 'Left Wing'},\n",
       " {'contractUntil': '2019-06-30',\n",
       "  'dateOfBirth': '1996-04-24',\n",
       "  'jerseyNumber': 31,\n",
       "  'marketValue': None,\n",
       "  'name': 'Aleksandr Makarov',\n",
       "  'nationality': 'Russia',\n",
       "  'position': 'Left Wing'},\n",
       " {'contractUntil': '2020-06-30',\n",
       "  'dateOfBirth': '1998-04-10',\n",
       "  'jerseyNumber': 63,\n",
       "  'marketValue': None,\n",
       "  'name': 'Fedor Chalov',\n",
       "  'nationality': 'Russia',\n",
       "  'position': 'Centre-Forward'},\n",
       " {'contractUntil': '2021-06-30',\n",
       "  'dateOfBirth': '1994-06-04',\n",
       "  'jerseyNumber': 99,\n",
       "  'marketValue': None,\n",
       "  'name': 'Aaron Olanare',\n",
       "  'nationality': 'Nigeria',\n",
       "  'position': 'Centre-Forward'},\n",
       " {'contractUntil': '2020-06-30',\n",
       "  'dateOfBirth': '1997-05-21',\n",
       "  'jerseyNumber': 75,\n",
       "  'marketValue': None,\n",
       "  'name': 'Timur Zhamaletdinov',\n",
       "  'nationality': 'Russia',\n",
       "  'position': 'Centre-Forward'}]"
      ]
     },
     "execution_count": 4,
     "metadata": {},
     "output_type": "execute_result"
    }
   ],
   "source": [
    "players = call_api('http://api.football-data.org/v1/teams/751/players', 'players')\n",
    "players"
   ]
  },
  {
   "cell_type": "code",
   "execution_count": 5,
   "metadata": {},
   "outputs": [
    {
     "name": "stdout",
     "output_type": "stream",
     "text": [
      "Игрок \"Igor Akinfeev\", дата рождения - 1986-04-08, конец действия контракта - 2019-06-30\n",
      "Игрок \"Ilya Pomazun\", дата рождения - 1996-08-16, конец действия контракта - 2019-06-30\n",
      "Игрок \"Viktor Vasin\", дата рождения - 1988-10-06, конец действия контракта - 2019-06-30\n",
      "Игрок \"Vasili Berezutski\", дата рождения - 1982-06-20, конец действия контракта - 2018-06-30\n",
      "Игрок \"Aleksey Berezutski\", дата рождения - 1982-06-20, конец действия контракта - 2018-06-30\n",
      "Игрок \"Sergey Ignashevich\", дата рождения - 1979-07-14, конец действия контракта - 2018-06-30\n",
      "Игрок \"Georgi Schennikov\", дата рождения - 1991-04-27, конец действия контракта - 2017-12-31\n",
      "Игрок \"Mário Fernandes\", дата рождения - 1990-09-19, конец действия контракта - 2022-06-30\n",
      "Игрок \"Kirill Nababkin\", дата рождения - 1986-09-08, конец действия контракта - 2019-06-30\n",
      "Игрок \"Pontus Wernbloom\", дата рождения - 1986-06-25, конец действия контракта - 2018-06-30\n",
      "Игрок \"Alan Dzagoev\", дата рождения - 1990-06-17, конец действия контракта - 2019-06-30\n",
      "Игрок \"Aleksandr Golovin\", дата рождения - 1996-05-30, конец действия контракта - 2021-06-30\n",
      "Игрок \"Bibras Natcho\", дата рождения - 1988-02-18, конец действия контракта - 2018-06-30\n",
      "Игрок \"Konstantin Kuchaev\", дата рождения - 1998-03-18, конец действия контракта - 2020-06-30\n",
      "Игрок \"Georgi Milanov\", дата рождения - 1992-02-19, конец действия контракта - 2018-06-30\n",
      "Игрок \"Vitinho\", дата рождения - 1993-10-09, конец действия контракта - 2020-06-30\n",
      "Игрок \"Aleksandr Makarov\", дата рождения - 1996-04-24, конец действия контракта - 2019-06-30\n",
      "Игрок \"Fedor Chalov\", дата рождения - 1998-04-10, конец действия контракта - 2020-06-30\n",
      "Игрок \"Aaron Olanare\", дата рождения - 1994-06-04, конец действия контракта - 2021-06-30\n",
      "Игрок \"Timur Zhamaletdinov\", дата рождения - 1997-05-21, конец действия контракта - 2020-06-30\n"
     ]
    }
   ],
   "source": [
    "for i, player in enumerate(players):\n",
    "#     player_name = (players[i]['name'], 'player_name')\n",
    "    print('Игрок \"{}\", дата рождения - {}, конец действия контракта - {}'.format(players[i]['name'], players[i]['dateOfBirth'], players[i]['contractUntil']))"
   ]
  },
  {
   "cell_type": "code",
   "execution_count": 6,
   "metadata": {},
   "outputs": [
    {
     "data": {
      "text/plain": [
       "[{'contractUntil': '2019-06-30',\n",
       "  'dateOfBirth': '1986-04-08',\n",
       "  'name': 'Igor Akinfeev'},\n",
       " {'contractUntil': '2019-06-30',\n",
       "  'dateOfBirth': '1996-08-16',\n",
       "  'name': 'Ilya Pomazun'},\n",
       " {'contractUntil': '2019-06-30',\n",
       "  'dateOfBirth': '1988-10-06',\n",
       "  'name': 'Viktor Vasin'},\n",
       " {'contractUntil': '2018-06-30',\n",
       "  'dateOfBirth': '1982-06-20',\n",
       "  'name': 'Vasili Berezutski'},\n",
       " {'contractUntil': '2018-06-30',\n",
       "  'dateOfBirth': '1982-06-20',\n",
       "  'name': 'Aleksey Berezutski'},\n",
       " {'contractUntil': '2018-06-30',\n",
       "  'dateOfBirth': '1979-07-14',\n",
       "  'name': 'Sergey Ignashevich'},\n",
       " {'contractUntil': '2017-12-31',\n",
       "  'dateOfBirth': '1991-04-27',\n",
       "  'name': 'Georgi Schennikov'},\n",
       " {'contractUntil': '2022-06-30',\n",
       "  'dateOfBirth': '1990-09-19',\n",
       "  'name': 'Mário Fernandes'},\n",
       " {'contractUntil': '2019-06-30',\n",
       "  'dateOfBirth': '1986-09-08',\n",
       "  'name': 'Kirill Nababkin'},\n",
       " {'contractUntil': '2018-06-30',\n",
       "  'dateOfBirth': '1986-06-25',\n",
       "  'name': 'Pontus Wernbloom'},\n",
       " {'contractUntil': '2019-06-30',\n",
       "  'dateOfBirth': '1990-06-17',\n",
       "  'name': 'Alan Dzagoev'},\n",
       " {'contractUntil': '2021-06-30',\n",
       "  'dateOfBirth': '1996-05-30',\n",
       "  'name': 'Aleksandr Golovin'},\n",
       " {'contractUntil': '2018-06-30',\n",
       "  'dateOfBirth': '1988-02-18',\n",
       "  'name': 'Bibras Natcho'},\n",
       " {'contractUntil': '2020-06-30',\n",
       "  'dateOfBirth': '1998-03-18',\n",
       "  'name': 'Konstantin Kuchaev'},\n",
       " {'contractUntil': '2018-06-30',\n",
       "  'dateOfBirth': '1992-02-19',\n",
       "  'name': 'Georgi Milanov'},\n",
       " {'contractUntil': '2020-06-30',\n",
       "  'dateOfBirth': '1993-10-09',\n",
       "  'name': 'Vitinho'},\n",
       " {'contractUntil': '2019-06-30',\n",
       "  'dateOfBirth': '1996-04-24',\n",
       "  'name': 'Aleksandr Makarov'},\n",
       " {'contractUntil': '2020-06-30',\n",
       "  'dateOfBirth': '1998-04-10',\n",
       "  'name': 'Fedor Chalov'},\n",
       " {'contractUntil': '2021-06-30',\n",
       "  'dateOfBirth': '1994-06-04',\n",
       "  'name': 'Aaron Olanare'},\n",
       " {'contractUntil': '2020-06-30',\n",
       "  'dateOfBirth': '1997-05-21',\n",
       "  'name': 'Timur Zhamaletdinov'}]"
      ]
     },
     "execution_count": 6,
     "metadata": {},
     "output_type": "execute_result"
    }
   ],
   "source": [
    "player_for_pd = []\n",
    "for i, player in enumerate(players):\n",
    "    player_for_pd.append({'name': players[i]['name'], 'dateOfBirth': players[i]['dateOfBirth'], 'contractUntil': players[i]['contractUntil']})\n",
    "player_for_pd"
   ]
  },
  {
   "cell_type": "code",
   "execution_count": 7,
   "metadata": {},
   "outputs": [],
   "source": [
    "player_pd = pd.DataFrame(player_for_pd)\n",
    "dateOfBirth_player = list((player_pd['dateOfBirth'].to_dict().values()))\n",
    "contractUntil_player = list((player_pd['dateOfBirth'].to_dict().values()))\n",
    "# print(dateOfBirth_player)"
   ]
  },
  {
   "cell_type": "code",
   "execution_count": 8,
   "metadata": {
    "collapsed": true
   },
   "outputs": [],
   "source": [
    "def get_age(birthday):\n",
    "    today = date.today()\n",
    "    age = today.year - (datetime.datetime.strptime(birthday, '%Y-%m-%d').year)\n",
    "    return age"
   ]
  },
  {
   "cell_type": "code",
   "execution_count": 9,
   "metadata": {},
   "outputs": [],
   "source": [
    "age_1 = []\n",
    "for i in range (len(players)):\n",
    "    age_1.append(get_age(dateOfBirth_player[i]))"
   ]
  },
  {
   "cell_type": "code",
   "execution_count": 10,
   "metadata": {},
   "outputs": [],
   "source": [
    "player_pd['Age'] = player_pd.apply(lambda row: get_age(row.dateOfBirth), axis=1) \n",
    "# player_pd"
   ]
  },
  {
   "cell_type": "code",
   "execution_count": 11,
   "metadata": {
    "collapsed": true
   },
   "outputs": [],
   "source": [
    "def get_age_contractUntil(contract):\n",
    "    today = date.today()\n",
    "    age_2 = (datetime.datetime.strptime(contract, '%Y-%m-%d').year) - today.year\n",
    "    return age_2"
   ]
  },
  {
   "cell_type": "code",
   "execution_count": 12,
   "metadata": {},
   "outputs": [],
   "source": [
    "age_2 = []\n",
    "for i in range (len(players)):\n",
    "    age_2.append(get_age_contractUntil(contractUntil_player[i]))"
   ]
  },
  {
   "cell_type": "code",
   "execution_count": 13,
   "metadata": {},
   "outputs": [
    {
     "data": {
      "text/html": [
       "<div>\n",
       "<style>\n",
       "    .dataframe thead tr:only-child th {\n",
       "        text-align: right;\n",
       "    }\n",
       "\n",
       "    .dataframe thead th {\n",
       "        text-align: left;\n",
       "    }\n",
       "\n",
       "    .dataframe tbody tr th {\n",
       "        vertical-align: top;\n",
       "    }\n",
       "</style>\n",
       "<table border=\"1\" class=\"dataframe\">\n",
       "  <thead>\n",
       "    <tr style=\"text-align: right;\">\n",
       "      <th></th>\n",
       "      <th>contractUntil</th>\n",
       "      <th>dateOfBirth</th>\n",
       "      <th>name</th>\n",
       "      <th>Age</th>\n",
       "      <th>ContractUntil</th>\n",
       "    </tr>\n",
       "  </thead>\n",
       "  <tbody>\n",
       "    <tr>\n",
       "      <th>0</th>\n",
       "      <td>2019-06-30</td>\n",
       "      <td>1986-04-08</td>\n",
       "      <td>Igor Akinfeev</td>\n",
       "      <td>31</td>\n",
       "      <td>2</td>\n",
       "    </tr>\n",
       "    <tr>\n",
       "      <th>1</th>\n",
       "      <td>2019-06-30</td>\n",
       "      <td>1996-08-16</td>\n",
       "      <td>Ilya Pomazun</td>\n",
       "      <td>21</td>\n",
       "      <td>2</td>\n",
       "    </tr>\n",
       "    <tr>\n",
       "      <th>2</th>\n",
       "      <td>2019-06-30</td>\n",
       "      <td>1988-10-06</td>\n",
       "      <td>Viktor Vasin</td>\n",
       "      <td>29</td>\n",
       "      <td>2</td>\n",
       "    </tr>\n",
       "    <tr>\n",
       "      <th>3</th>\n",
       "      <td>2018-06-30</td>\n",
       "      <td>1982-06-20</td>\n",
       "      <td>Vasili Berezutski</td>\n",
       "      <td>35</td>\n",
       "      <td>1</td>\n",
       "    </tr>\n",
       "    <tr>\n",
       "      <th>4</th>\n",
       "      <td>2018-06-30</td>\n",
       "      <td>1982-06-20</td>\n",
       "      <td>Aleksey Berezutski</td>\n",
       "      <td>35</td>\n",
       "      <td>1</td>\n",
       "    </tr>\n",
       "    <tr>\n",
       "      <th>5</th>\n",
       "      <td>2018-06-30</td>\n",
       "      <td>1979-07-14</td>\n",
       "      <td>Sergey Ignashevich</td>\n",
       "      <td>38</td>\n",
       "      <td>1</td>\n",
       "    </tr>\n",
       "    <tr>\n",
       "      <th>6</th>\n",
       "      <td>2017-12-31</td>\n",
       "      <td>1991-04-27</td>\n",
       "      <td>Georgi Schennikov</td>\n",
       "      <td>26</td>\n",
       "      <td>0</td>\n",
       "    </tr>\n",
       "    <tr>\n",
       "      <th>7</th>\n",
       "      <td>2022-06-30</td>\n",
       "      <td>1990-09-19</td>\n",
       "      <td>Mário Fernandes</td>\n",
       "      <td>27</td>\n",
       "      <td>5</td>\n",
       "    </tr>\n",
       "    <tr>\n",
       "      <th>8</th>\n",
       "      <td>2019-06-30</td>\n",
       "      <td>1986-09-08</td>\n",
       "      <td>Kirill Nababkin</td>\n",
       "      <td>31</td>\n",
       "      <td>2</td>\n",
       "    </tr>\n",
       "    <tr>\n",
       "      <th>9</th>\n",
       "      <td>2018-06-30</td>\n",
       "      <td>1986-06-25</td>\n",
       "      <td>Pontus Wernbloom</td>\n",
       "      <td>31</td>\n",
       "      <td>1</td>\n",
       "    </tr>\n",
       "    <tr>\n",
       "      <th>10</th>\n",
       "      <td>2019-06-30</td>\n",
       "      <td>1990-06-17</td>\n",
       "      <td>Alan Dzagoev</td>\n",
       "      <td>27</td>\n",
       "      <td>2</td>\n",
       "    </tr>\n",
       "    <tr>\n",
       "      <th>11</th>\n",
       "      <td>2021-06-30</td>\n",
       "      <td>1996-05-30</td>\n",
       "      <td>Aleksandr Golovin</td>\n",
       "      <td>21</td>\n",
       "      <td>4</td>\n",
       "    </tr>\n",
       "    <tr>\n",
       "      <th>12</th>\n",
       "      <td>2018-06-30</td>\n",
       "      <td>1988-02-18</td>\n",
       "      <td>Bibras Natcho</td>\n",
       "      <td>29</td>\n",
       "      <td>1</td>\n",
       "    </tr>\n",
       "    <tr>\n",
       "      <th>13</th>\n",
       "      <td>2020-06-30</td>\n",
       "      <td>1998-03-18</td>\n",
       "      <td>Konstantin Kuchaev</td>\n",
       "      <td>19</td>\n",
       "      <td>3</td>\n",
       "    </tr>\n",
       "    <tr>\n",
       "      <th>14</th>\n",
       "      <td>2018-06-30</td>\n",
       "      <td>1992-02-19</td>\n",
       "      <td>Georgi Milanov</td>\n",
       "      <td>25</td>\n",
       "      <td>1</td>\n",
       "    </tr>\n",
       "    <tr>\n",
       "      <th>15</th>\n",
       "      <td>2020-06-30</td>\n",
       "      <td>1993-10-09</td>\n",
       "      <td>Vitinho</td>\n",
       "      <td>24</td>\n",
       "      <td>3</td>\n",
       "    </tr>\n",
       "    <tr>\n",
       "      <th>16</th>\n",
       "      <td>2019-06-30</td>\n",
       "      <td>1996-04-24</td>\n",
       "      <td>Aleksandr Makarov</td>\n",
       "      <td>21</td>\n",
       "      <td>2</td>\n",
       "    </tr>\n",
       "    <tr>\n",
       "      <th>17</th>\n",
       "      <td>2020-06-30</td>\n",
       "      <td>1998-04-10</td>\n",
       "      <td>Fedor Chalov</td>\n",
       "      <td>19</td>\n",
       "      <td>3</td>\n",
       "    </tr>\n",
       "    <tr>\n",
       "      <th>18</th>\n",
       "      <td>2021-06-30</td>\n",
       "      <td>1994-06-04</td>\n",
       "      <td>Aaron Olanare</td>\n",
       "      <td>23</td>\n",
       "      <td>4</td>\n",
       "    </tr>\n",
       "    <tr>\n",
       "      <th>19</th>\n",
       "      <td>2020-06-30</td>\n",
       "      <td>1997-05-21</td>\n",
       "      <td>Timur Zhamaletdinov</td>\n",
       "      <td>20</td>\n",
       "      <td>3</td>\n",
       "    </tr>\n",
       "  </tbody>\n",
       "</table>\n",
       "</div>"
      ],
      "text/plain": [
       "   contractUntil dateOfBirth                 name  Age  ContractUntil\n",
       "0     2019-06-30  1986-04-08        Igor Akinfeev   31              2\n",
       "1     2019-06-30  1996-08-16         Ilya Pomazun   21              2\n",
       "2     2019-06-30  1988-10-06         Viktor Vasin   29              2\n",
       "3     2018-06-30  1982-06-20    Vasili Berezutski   35              1\n",
       "4     2018-06-30  1982-06-20   Aleksey Berezutski   35              1\n",
       "5     2018-06-30  1979-07-14   Sergey Ignashevich   38              1\n",
       "6     2017-12-31  1991-04-27    Georgi Schennikov   26              0\n",
       "7     2022-06-30  1990-09-19      Mário Fernandes   27              5\n",
       "8     2019-06-30  1986-09-08      Kirill Nababkin   31              2\n",
       "9     2018-06-30  1986-06-25     Pontus Wernbloom   31              1\n",
       "10    2019-06-30  1990-06-17         Alan Dzagoev   27              2\n",
       "11    2021-06-30  1996-05-30    Aleksandr Golovin   21              4\n",
       "12    2018-06-30  1988-02-18        Bibras Natcho   29              1\n",
       "13    2020-06-30  1998-03-18   Konstantin Kuchaev   19              3\n",
       "14    2018-06-30  1992-02-19       Georgi Milanov   25              1\n",
       "15    2020-06-30  1993-10-09              Vitinho   24              3\n",
       "16    2019-06-30  1996-04-24    Aleksandr Makarov   21              2\n",
       "17    2020-06-30  1998-04-10         Fedor Chalov   19              3\n",
       "18    2021-06-30  1994-06-04        Aaron Olanare   23              4\n",
       "19    2020-06-30  1997-05-21  Timur Zhamaletdinov   20              3"
      ]
     },
     "execution_count": 13,
     "metadata": {},
     "output_type": "execute_result"
    }
   ],
   "source": [
    "player_pd['ContractUntil'] = player_pd.apply(lambda row: get_age_contractUntil(row.contractUntil), axis=1) \n",
    "player_pd"
   ]
  },
  {
   "cell_type": "code",
   "execution_count": 14,
   "metadata": {},
   "outputs": [
    {
     "data": {
      "text/plain": [
       "<matplotlib.axes._subplots.AxesSubplot at 0x1478fe728d0>"
      ]
     },
     "execution_count": 14,
     "metadata": {},
     "output_type": "execute_result"
    },
    {
     "data": {
      "image/png": "[encoded data removed]",
      "text/plain": [
       "<matplotlib.figure.Figure at 0x1478fe720f0>"
      ]
     },
     "metadata": {},
     "output_type": "display_data"
    }
   ],
   "source": [
    "player_pd.plot.scatter(x='Age', y='ContractUntil', s=50)"
   ]
  },
  {
   "cell_type": "code",
   "execution_count": 15,
   "metadata": {},
   "outputs": [
    {
     "data": {
      "text/html": [
       "<div>\n",
       "<style>\n",
       "    .dataframe thead tr:only-child th {\n",
       "        text-align: right;\n",
       "    }\n",
       "\n",
       "    .dataframe thead th {\n",
       "        text-align: left;\n",
       "    }\n",
       "\n",
       "    .dataframe tbody tr th {\n",
       "        vertical-align: top;\n",
       "    }\n",
       "</style>\n",
       "<table border=\"1\" class=\"dataframe\">\n",
       "  <thead>\n",
       "    <tr style=\"text-align: right;\">\n",
       "      <th></th>\n",
       "      <th>Age</th>\n",
       "      <th>ContractUntil</th>\n",
       "    </tr>\n",
       "  </thead>\n",
       "  <tbody>\n",
       "    <tr>\n",
       "      <th>0</th>\n",
       "      <td>31</td>\n",
       "      <td>2</td>\n",
       "    </tr>\n",
       "    <tr>\n",
       "      <th>1</th>\n",
       "      <td>21</td>\n",
       "      <td>2</td>\n",
       "    </tr>\n",
       "    <tr>\n",
       "      <th>2</th>\n",
       "      <td>29</td>\n",
       "      <td>2</td>\n",
       "    </tr>\n",
       "    <tr>\n",
       "      <th>3</th>\n",
       "      <td>35</td>\n",
       "      <td>1</td>\n",
       "    </tr>\n",
       "    <tr>\n",
       "      <th>4</th>\n",
       "      <td>35</td>\n",
       "      <td>1</td>\n",
       "    </tr>\n",
       "    <tr>\n",
       "      <th>5</th>\n",
       "      <td>38</td>\n",
       "      <td>1</td>\n",
       "    </tr>\n",
       "    <tr>\n",
       "      <th>6</th>\n",
       "      <td>26</td>\n",
       "      <td>0</td>\n",
       "    </tr>\n",
       "    <tr>\n",
       "      <th>7</th>\n",
       "      <td>27</td>\n",
       "      <td>5</td>\n",
       "    </tr>\n",
       "    <tr>\n",
       "      <th>8</th>\n",
       "      <td>31</td>\n",
       "      <td>2</td>\n",
       "    </tr>\n",
       "    <tr>\n",
       "      <th>9</th>\n",
       "      <td>31</td>\n",
       "      <td>1</td>\n",
       "    </tr>\n",
       "    <tr>\n",
       "      <th>10</th>\n",
       "      <td>27</td>\n",
       "      <td>2</td>\n",
       "    </tr>\n",
       "    <tr>\n",
       "      <th>11</th>\n",
       "      <td>21</td>\n",
       "      <td>4</td>\n",
       "    </tr>\n",
       "    <tr>\n",
       "      <th>12</th>\n",
       "      <td>29</td>\n",
       "      <td>1</td>\n",
       "    </tr>\n",
       "    <tr>\n",
       "      <th>13</th>\n",
       "      <td>19</td>\n",
       "      <td>3</td>\n",
       "    </tr>\n",
       "    <tr>\n",
       "      <th>14</th>\n",
       "      <td>25</td>\n",
       "      <td>1</td>\n",
       "    </tr>\n",
       "    <tr>\n",
       "      <th>15</th>\n",
       "      <td>24</td>\n",
       "      <td>3</td>\n",
       "    </tr>\n",
       "    <tr>\n",
       "      <th>16</th>\n",
       "      <td>21</td>\n",
       "      <td>2</td>\n",
       "    </tr>\n",
       "    <tr>\n",
       "      <th>17</th>\n",
       "      <td>19</td>\n",
       "      <td>3</td>\n",
       "    </tr>\n",
       "    <tr>\n",
       "      <th>18</th>\n",
       "      <td>23</td>\n",
       "      <td>4</td>\n",
       "    </tr>\n",
       "    <tr>\n",
       "      <th>19</th>\n",
       "      <td>20</td>\n",
       "      <td>3</td>\n",
       "    </tr>\n",
       "  </tbody>\n",
       "</table>\n",
       "</div>"
      ],
      "text/plain": [
       "    Age  ContractUntil\n",
       "0    31              2\n",
       "1    21              2\n",
       "2    29              2\n",
       "3    35              1\n",
       "4    35              1\n",
       "5    38              1\n",
       "6    26              0\n",
       "7    27              5\n",
       "8    31              2\n",
       "9    31              1\n",
       "10   27              2\n",
       "11   21              4\n",
       "12   29              1\n",
       "13   19              3\n",
       "14   25              1\n",
       "15   24              3\n",
       "16   21              2\n",
       "17   19              3\n",
       "18   23              4\n",
       "19   20              3"
      ]
     },
     "execution_count": 15,
     "metadata": {},
     "output_type": "execute_result"
    }
   ],
   "source": [
    "del player_pd['contractUntil']\n",
    "del player_pd['dateOfBirth']\n",
    "del player_pd['name']\n",
    "player_pd"
   ]
  },
  {
   "cell_type": "code",
   "execution_count": 16,
   "metadata": {},
   "outputs": [
    {
     "data": {
      "text/plain": [
       "array([[ 5.58218865,  1.61822679],\n",
       "       [ 3.78148263,  1.61822679],\n",
       "       [ 5.22204744,  1.61822679],\n",
       "       [ 6.30247105,  0.80911339],\n",
       "       [ 6.30247105,  0.80911339],\n",
       "       [ 6.84268286,  0.80911339],\n",
       "       [ 4.68183564,  0.        ],\n",
       "       [ 4.86190624,  4.04556697],\n",
       "       [ 5.58218865,  1.61822679],\n",
       "       [ 5.58218865,  0.80911339],\n",
       "       [ 4.86190624,  1.61822679],\n",
       "       [ 3.78148263,  3.23645358],\n",
       "       [ 5.22204744,  0.80911339],\n",
       "       [ 3.42134143,  2.42734018],\n",
       "       [ 4.50176504,  0.80911339],\n",
       "       [ 4.32169444,  2.42734018],\n",
       "       [ 3.78148263,  1.61822679],\n",
       "       [ 3.42134143,  2.42734018],\n",
       "       [ 4.14162383,  3.23645358],\n",
       "       [ 3.60141203,  2.42734018]])"
      ]
     },
     "execution_count": 16,
     "metadata": {},
     "output_type": "execute_result"
    }
   ],
   "source": [
    "whitened = whiten(player_pd.as_matrix())\n",
    "whitened"
   ]
  },
  {
   "cell_type": "code",
   "execution_count": 17,
   "metadata": {},
   "outputs": [
    {
     "name": "stderr",
     "output_type": "stream",
     "text": [
      "C:\\Users\\user\\Anaconda3\\lib\\site-packages\\scipy\\cluster\\vq.py:660: UserWarning: One of the clusters is empty. Re-run kmean with a different initialization.\n",
      "  warnings.warn(\"One of the clusters is empty. \"\n"
     ]
    },
    {
     "data": {
      "text/plain": [
       "(array([[ 3.9015297 ,  2.60714316],\n",
       "        [ 5.51670843,  1.02978068],\n",
       "        [ 6.68880888, -1.58892356]]),\n",
       " array([1, 0, 1, 1, 1, 1, 1, 0, 1, 1, 1, 0, 1, 0, 1, 0, 0, 0, 0, 0]))"
      ]
     },
     "execution_count": 17,
     "metadata": {},
     "output_type": "execute_result"
    }
   ],
   "source": [
    "centroids, cluster_map = kmeans2(whitened, 3)\n",
    "centroids, cluster_map"
   ]
  },
  {
   "cell_type": "code",
   "execution_count": 18,
   "metadata": {},
   "outputs": [
    {
     "data": {
      "text/plain": [
       "['g',\n",
       " 'r',\n",
       " 'g',\n",
       " 'g',\n",
       " 'g',\n",
       " 'g',\n",
       " 'g',\n",
       " 'r',\n",
       " 'g',\n",
       " 'g',\n",
       " 'g',\n",
       " 'r',\n",
       " 'g',\n",
       " 'r',\n",
       " 'g',\n",
       " 'r',\n",
       " 'r',\n",
       " 'r',\n",
       " 'r',\n",
       " 'r']"
      ]
     },
     "execution_count": 18,
     "metadata": {},
     "output_type": "execute_result"
    }
   ],
   "source": [
    "colors_map = {0: 'r', 1: 'g', 2: 'b', 3: 'y', 4: 'm'}\n",
    "colors = [colors_map[c] for c in cluster_map]\n",
    "colors"
   ]
  },
  {
   "cell_type": "code",
   "execution_count": 19,
   "metadata": {},
   "outputs": [
    {
     "data": {
      "text/plain": [
       "<matplotlib.axes._subplots.AxesSubplot at 0x1478ff322e8>"
      ]
     },
     "execution_count": 19,
     "metadata": {},
     "output_type": "execute_result"
    },
    {
     "data": {
      "image/png": "[encoded data removed]",
      "text/plain": [
       "<matplotlib.figure.Figure at 0x1478ff16160>"
      ]
     },
     "metadata": {},
     "output_type": "display_data"
    }
   ],
   "source": [
    "player_pd.plot.scatter(x='Age', y='ContractUntil', c=colors, s=100)"
   ]
  },
  {
   "cell_type": "code",
   "execution_count": 20,
   "metadata": {},
   "outputs": [
    {
     "name": "stderr",
     "output_type": "stream",
     "text": [
      "C:\\Users\\user\\Anaconda3\\lib\\site-packages\\scipy\\cluster\\vq.py:660: UserWarning: One of the clusters is empty. Re-run kmean with a different initialization.\n",
      "  warnings.warn(\"One of the clusters is empty. \"\n"
     ]
    },
    {
     "data": {
      "text/plain": [
       "(array([[ 4.2616709 ,  3.50615804],\n",
       "        [ 4.94282679,  2.59194951],\n",
       "        [ 4.59180034,  2.02278349],\n",
       "        [ 3.60141203,  2.10369482],\n",
       "        [ 5.58218865,  0.97093607]]),\n",
       " array([4, 3, 4, 4, 4, 4, 4, 0, 4, 4, 2, 0, 4, 3, 4, 2, 3, 3, 0, 3]))"
      ]
     },
     "execution_count": 20,
     "metadata": {},
     "output_type": "execute_result"
    }
   ],
   "source": [
    "centroids, cluster_map = kmeans2(whitened, 5)\n",
    "centroids, cluster_map"
   ]
  },
  {
   "cell_type": "code",
   "execution_count": 21,
   "metadata": {},
   "outputs": [
    {
     "data": {
      "text/plain": [
       "['m',\n",
       " 'y',\n",
       " 'm',\n",
       " 'm',\n",
       " 'm',\n",
       " 'm',\n",
       " 'm',\n",
       " 'r',\n",
       " 'm',\n",
       " 'm',\n",
       " 'b',\n",
       " 'r',\n",
       " 'm',\n",
       " 'y',\n",
       " 'm',\n",
       " 'b',\n",
       " 'y',\n",
       " 'y',\n",
       " 'r',\n",
       " 'y']"
      ]
     },
     "execution_count": 21,
     "metadata": {},
     "output_type": "execute_result"
    }
   ],
   "source": [
    "colors_map = {0: 'r', 1: 'g', 2: 'b', 3: 'y', 4: 'm'}\n",
    "colors = [colors_map[c] for c in cluster_map]\n",
    "colors"
   ]
  },
  {
   "cell_type": "code",
   "execution_count": 22,
   "metadata": {},
   "outputs": [
    {
     "data": {
      "text/plain": [
       "<matplotlib.axes._subplots.AxesSubplot at 0x147903d54a8>"
      ]
     },
     "execution_count": 22,
     "metadata": {},
     "output_type": "execute_result"
    },
    {
     "data": {
      "image/png": "[encoded data removed]",
      "text/plain": [
       "<matplotlib.figure.Figure at 0x147903dcdd8>"
      ]
     },
     "metadata": {},
     "output_type": "display_data"
    }
   ],
   "source": [
    "player_pd.plot.scatter(x='Age', y='ContractUntil', c=colors, s=100)"
   ]
  }
 ],
 "metadata": {
  "kernelspec": {
   "display_name": "Python 3",
   "language": "python",
   "name": "python3"
  },
  "language_info": {
   "codemirror_mode": {
    "name": "ipython",
    "version": 3
   },
   "file_extension": ".py",
   "mimetype": "text/x-python",
   "name": "python",
   "nbconvert_exporter": "python",
   "pygments_lexer": "ipython3",
   "version": "3.6.1"
  }
 },
 "nbformat": 4,
 "nbformat_minor": 2
}
